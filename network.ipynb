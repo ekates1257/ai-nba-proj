{
 "cells": [
  {
   "cell_type": "markdown",
   "id": "6ad24407",
   "metadata": {},
   "source": [
    "ANN Final Project\n",
    "Authors: Caleb Johnson, Gabe Schwartz, Evan Kates\n",
    "Network Module"
   ]
  },
  {
   "cell_type": "code",
   "execution_count": 1,
   "id": "a09002cb",
   "metadata": {},
   "outputs": [],
   "source": [
    "# import data from csv file\n",
    "import pandas as pd\n"
   ]
  }
 ],
 "metadata": {
  "kernelspec": {
   "display_name": "Python 3",
   "language": "python",
   "name": "python3"
  },
  "language_info": {
   "codemirror_mode": {
    "name": "ipython",
    "version": 3
   },
   "file_extension": ".py",
   "mimetype": "text/x-python",
   "name": "python",
   "nbconvert_exporter": "python",
   "pygments_lexer": "ipython3",
   "version": "3.9.6"
  }
 },
 "nbformat": 4,
 "nbformat_minor": 5
}
