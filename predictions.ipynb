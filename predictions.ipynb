{
 "cells": [
  {
   "cell_type": "markdown",
   "id": "afcacbd1",
   "metadata": {},
   "source": [
    "ANN Final Project\n",
    "Authors: Caleb Johnson, Gabe Schwartz, Evan Kates"
   ]
  },
  {
   "cell_type": "code",
   "execution_count": 4,
   "id": "d7ad87dd",
   "metadata": {},
   "outputs": [
    {
     "name": "stderr",
     "output_type": "stream",
     "text": [
      "/Users/calebjohnson/Library/Python/3.9/lib/python/site-packages/urllib3/__init__.py:35: NotOpenSSLWarning: urllib3 v2 only supports OpenSSL 1.1.1+, currently the 'ssl' module is compiled with 'LibreSSL 2.8.3'. See: https://github.com/urllib3/urllib3/issues/3020\n",
      "  warnings.warn(\n",
      "WARNING:absl:Compiled the loaded model, but the compiled metrics have yet to be built. `model.compile_metrics` will be empty until you train or evaluate the model.\n"
     ]
    }
   ],
   "source": [
    "# Import rookie data and model\n",
    "import pandas as pd\n",
    "from sklearn.preprocessing import StandardScaler\n",
    "from tensorflow.keras.models import load_model\n",
    "\n",
    "model = load_model(\"stat_prediction_model.h5\")\n",
    "\n",
    "rookie_df = pd.read_csv('prediction.csv')\n",
    "feature_cols = ['PLAYER_NAME', 'GP_r', 'MIN_r', 'FG_PCT_r', 'REB_r', 'AST_r', 'PTS_r', 'TOV_r']\n",
    "rookie_df = rookie_df[feature_cols]\n",
    "\n",
    "scaler = StandardScaler()\n",
    "X = scaler.fit_transform(rookie_df.drop(columns=[\"PLAYER_NAME\"]))\n",
    "player_features = pd.DataFrame(X, index=rookie_df[\"PLAYER_NAME\"])"
   ]
  },
  {
   "cell_type": "code",
   "execution_count": 12,
   "id": "02ae981e",
   "metadata": {},
   "outputs": [],
   "source": [
    "def predict_sophomore_stats(player_name):\n",
    "    if player_name not in player_features.index:\n",
    "        print(f\"No data found for player: {player_name}\")\n",
    "        return\n",
    "\n",
    "    features = player_features.loc[player_name].values.reshape(1, -1)\n",
    "    prediction = model.predict(features)[0]\n",
    "    print(f\"Predicted stats for {player_name}:\")\n",
    "    print(f\"Predicted PTS: {prediction[0]:.2f}\")\n",
    "    print(f\"Predicted REB: {prediction[1]:.2f}\")\n",
    "    print(f\"Predicted AST: {prediction[2]:.2f}\")\n",
    "    "
   ]
  },
  {
   "cell_type": "code",
   "execution_count": 18,
   "id": "184700ba",
   "metadata": {},
   "outputs": [
    {
     "name": "stdout",
     "output_type": "stream",
     "text": [
      "\u001b[1m1/1\u001b[0m \u001b[32m━━━━━━━━━━━━━━━━━━━━\u001b[0m\u001b[37m\u001b[0m \u001b[1m0s\u001b[0m 75ms/step\n",
      "Predicted stats for Bronny James:\n",
      "Predicted PTS: 4.59\n",
      "Predicted REB: 1.56\n",
      "Predicted AST: 1.18\n"
     ]
    }
   ],
   "source": [
    "done = False\n",
    "while not done:\n",
    "    player_name = input(\"Enter a player name for prediction(e for exit): \")\n",
    "    if player_name == \"e\" or player_name == \"exit\":\n",
    "        break\n",
    "    else:\n",
    "        predict_sophomore_stats(player_name)\n",
    "        \n"
   ]
  }
 ],
 "metadata": {
  "kernelspec": {
   "display_name": "Python 3",
   "language": "python",
   "name": "python3"
  },
  "language_info": {
   "codemirror_mode": {
    "name": "ipython",
    "version": 3
   },
   "file_extension": ".py",
   "mimetype": "text/x-python",
   "name": "python",
   "nbconvert_exporter": "python",
   "pygments_lexer": "ipython3",
   "version": "3.9.6"
  }
 },
 "nbformat": 4,
 "nbformat_minor": 5
}
