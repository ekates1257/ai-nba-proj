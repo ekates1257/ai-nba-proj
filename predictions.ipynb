{
 "cells": [
  {
   "cell_type": "markdown",
   "id": "afcacbd1",
   "metadata": {},
   "source": [
    "ANN Final Project\n",
    "Authors: Caleb Johnson, Gabe Schwartz, Evan Kates"
   ]
  },
  {
   "cell_type": "code",
   "execution_count": 8,
   "id": "d7ad87dd",
   "metadata": {},
   "outputs": [
    {
     "name": "stderr",
     "output_type": "stream",
     "text": [
      "/Users/calebjohnson/Library/Python/3.9/lib/python/site-packages/keras/src/saving/saving_lib.py:757: UserWarning: Skipping variable loading for optimizer 'rmsprop', because it has 8 variables whereas the saved optimizer has 14 variables. \n",
      "  saveable.load_own_variables(weights_store.get(inner_path))\n"
     ]
    }
   ],
   "source": [
    "# Import rookie data and model\n",
    "import pandas as pd\n",
    "from tensorflow.keras.models import load_model\n",
    "from sklearn.preprocessing import StandardScaler\n",
    "\n",
    "rookie_df = pd.read_csv('prediction.csv')\n",
    "scaler = StandardScaler()\n",
    "X = scaler.fit_transform(rookie_df.drop(columns=[\"PLAYER_NAME\"]))\n",
    "player_features = pd.DataFrame(X, index=rookie_df[\"PLAYER_NAME\"])\n",
    "\n",
    "model = load_model(\"stat_prediction_model.keras\")"
   ]
  },
  {
   "cell_type": "code",
   "execution_count": null,
   "id": "02ae981e",
   "metadata": {},
   "outputs": [],
   "source": [
    "def predict_sophomore_stats(player_name):\n",
    "    if player_name not in player_features.index:\n",
    "        return f\"No data found for player: {player_name}\"\n",
    "\n",
    "    features = player_features.loc[player_name].values.reshape(1, -1)\n",
    "    prediction = model.predict(features)[0]\n",
    "    return {\n",
    "        \"Predicted PTS\": round(prediction[0], 2),\n",
    "        \"Predicted REB\": round(prediction[1], 2),\n",
    "        \"Predicted AST\": round(prediction[2], 2)\n",
    "    }"
   ]
  }
 ],
 "metadata": {
  "kernelspec": {
   "display_name": "Python 3",
   "language": "python",
   "name": "python3"
  },
  "language_info": {
   "codemirror_mode": {
    "name": "ipython",
    "version": 3
   },
   "file_extension": ".py",
   "mimetype": "text/x-python",
   "name": "python",
   "nbconvert_exporter": "python",
   "pygments_lexer": "ipython3",
   "version": "3.9.6"
  }
 },
 "nbformat": 4,
 "nbformat_minor": 5
}
